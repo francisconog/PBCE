{
 "cells": [
  {
   "attachments": {},
   "cell_type": "markdown",
   "metadata": {},
   "source": [
    "# Desagregação dos dados da bacia do Parnaíba usando GeoPandas\n",
    "\n",
    "Este *notebook* mostra é uma continuação [deste *notebook*](https://github.com/francisconog/PBCE/blob/master/analysis/ESTPLU_POR_BACIA.ipynb) que classifica um ponto de acordo com sua latitude e longitude. Em 2012 a Bacia do Parnaíba foi dividida em: Serra de Ibiapaba e Sertões de Crateús. Desta forma, precisa-se desagregar os dados da antiga bacia para a realização de análises mais completas.\n",
    "\n",
    "*Este Notebook faz parte de uma colaboração da Universidade Federal do Ceará (UFC), da Companhia de Gestão de Recursos Hídricos (COGERH) e da Fundação Cearense de Apoio ao Desenvolvimento Científico e Tecnológico (FUNCAP) no âmbito do projeto de desenvolvimento de ferramentas tecnológicas de gestão para planejamento de recursos hídricos do estado do Ceará: Segurança hídrica e planejamento de secas*\n",
    "\n",
    "*Code by: Francisco Nogueira*"
   ]
  },
  {
   "cell_type": "markdown",
   "metadata": {},
   "source": [
    "## Importing packages"
   ]
  },
  {
   "cell_type": "code",
   "execution_count": 1,
   "metadata": {},
   "outputs": [],
   "source": [
    "import geobr\n",
    "import numpy as np\n",
    "import pandas as pd\n",
    "import matplotlib.pyplot as plt\n",
    "import geopandas as gpd\n",
    "import os\n",
    "from shapely.geometry import Point\n",
    "from tqdm import tqdm\n",
    "import sys\n",
    "import warnings\n",
    "sys.path.append('../src')\n",
    "warnings.filterwarnings('ignore')\n",
    "from functions import *"
   ]
  },
  {
   "cell_type": "markdown",
   "metadata": {},
   "source": [
    "## Paths"
   ]
  },
  {
   "cell_type": "code",
   "execution_count": 2,
   "metadata": {},
   "outputs": [],
   "source": [
    "data_path = \"../data/\"\n",
    "shape_file_path = \"shapes\"\n",
    "shape_malha_dagua = \"Drenagem/Margens_simples_CE_corrigidoSRH.shp\"\n",
    "shape_bacias = \"geomap_bacias/i3geomap_bacias.shp\"\n",
    "outorga_data_path = \"Dados Alocar/outorga-cogerh\""
   ]
  },
  {
   "cell_type": "markdown",
   "metadata": {},
   "source": [
    "## Import Data"
   ]
  },
  {
   "cell_type": "code",
   "execution_count": 3,
   "metadata": {},
   "outputs": [],
   "source": [
    "# Shape do Estado do Ceará\n",
    "state = geobr.read_state(code_state=\"CE\", year=2018)\n"
   ]
  },
  {
   "cell_type": "code",
   "execution_count": 4,
   "metadata": {},
   "outputs": [],
   "source": [
    "# Shape das malhas d'água do estado do Ceará\n",
    "shapefile_malha = gpd.read_file(os.path.join(data_path,shape_file_path,shape_malha_dagua)).to_crs(\"EPSG:31984\")\n",
    "\n",
    "# Shape das bacias hidrográfica do Ceará\n",
    "shapefile_bacias = gpd.read_file(os.path.join(data_path,shape_file_path,shape_bacias),\n",
    "                                encoding='utf-8').to_crs(\"EPSG:31984\")\n"
   ]
  },
  {
   "cell_type": "code",
   "execution_count": 5,
   "metadata": {},
   "outputs": [
    {
     "data": {
      "text/html": [
       "<div>\n",
       "<style scoped>\n",
       "    .dataframe tbody tr th:only-of-type {\n",
       "        vertical-align: middle;\n",
       "    }\n",
       "\n",
       "    .dataframe tbody tr th {\n",
       "        vertical-align: top;\n",
       "    }\n",
       "\n",
       "    .dataframe thead th {\n",
       "        text-align: right;\n",
       "    }\n",
       "</style>\n",
       "<table border=\"1\" class=\"dataframe\">\n",
       "  <thead>\n",
       "    <tr style=\"text-align: right;\">\n",
       "      <th></th>\n",
       "      <th>Requerente</th>\n",
       "      <th>N Processo</th>\n",
       "      <th>Bacia</th>\n",
       "      <th>Tipo de Uso</th>\n",
       "      <th>Vz Outorgada(L/s)</th>\n",
       "      <th>Vol. Outorgado(M3/ano)</th>\n",
       "      <th>Latitude</th>\n",
       "      <th>Longitude</th>\n",
       "      <th>Manancial</th>\n",
       "      <th>Data Inicial</th>\n",
       "      <th>Data Final</th>\n",
       "      <th>Unnamed: 11</th>\n",
       "      <th>Unnamed: 12</th>\n",
       "    </tr>\n",
       "  </thead>\n",
       "  <tbody>\n",
       "    <tr>\n",
       "      <th>0</th>\n",
       "      <td>ASS. DOS MORADORES DE QUIXABA DOS PAULOS E ADJ.</td>\n",
       "      <td>04279973-2</td>\n",
       "      <td>BAIXO JAGUARIBE</td>\n",
       "      <td>ABASTECIMENTO HUMANO</td>\n",
       "      <td>0.66</td>\n",
       "      <td>10300.00</td>\n",
       "      <td>NaN</td>\n",
       "      <td>NaN</td>\n",
       "      <td>CANAL DO TRABALHADOR</td>\n",
       "      <td>08/09/2004</td>\n",
       "      <td>08/09/2014</td>\n",
       "      <td>NaN</td>\n",
       "      <td>NaN</td>\n",
       "    </tr>\n",
       "    <tr>\n",
       "      <th>1</th>\n",
       "      <td>SAAE DE PEDRA BRANCA</td>\n",
       "      <td>03272770-4</td>\n",
       "      <td>BANABUIÚ</td>\n",
       "      <td>ABASTECIMENTO HUMANO</td>\n",
       "      <td>22.57</td>\n",
       "      <td>711750.00</td>\n",
       "      <td>NaN</td>\n",
       "      <td>NaN</td>\n",
       "      <td>AÇUDE TRAPIA II</td>\n",
       "      <td>30/08/2003</td>\n",
       "      <td>30/08/2013</td>\n",
       "      <td>NaN</td>\n",
       "      <td>NaN</td>\n",
       "    </tr>\n",
       "    <tr>\n",
       "      <th>2</th>\n",
       "      <td>ASS. DOS PRODUTORES RURAIS DE SABONETE</td>\n",
       "      <td>02413120-2</td>\n",
       "      <td>BANABUIÚ</td>\n",
       "      <td>ABASTECIMENTO HUMANO</td>\n",
       "      <td>2.22</td>\n",
       "      <td>35040.00</td>\n",
       "      <td>NaN</td>\n",
       "      <td>NaN</td>\n",
       "      <td>AÇUDE CEDRO</td>\n",
       "      <td>25/11/2002</td>\n",
       "      <td>25/11/2012</td>\n",
       "      <td>NaN</td>\n",
       "      <td>NaN</td>\n",
       "    </tr>\n",
       "    <tr>\n",
       "      <th>3</th>\n",
       "      <td>CELIBA CIA AGROINDUSTRIAL</td>\n",
       "      <td>04007771-3</td>\n",
       "      <td>METROPOLITANA</td>\n",
       "      <td>IRRIGAÇÃO</td>\n",
       "      <td>1.36</td>\n",
       "      <td>16856.26</td>\n",
       "      <td>NaN</td>\n",
       "      <td>NaN</td>\n",
       "      <td>CANAL DO TRABALHADOR</td>\n",
       "      <td>16/08/2004</td>\n",
       "      <td>16/08/2014</td>\n",
       "      <td>NaN</td>\n",
       "      <td>NaN</td>\n",
       "    </tr>\n",
       "    <tr>\n",
       "      <th>4</th>\n",
       "      <td>CELICA CIA AGROINDUSTRIAL</td>\n",
       "      <td>04007770-5</td>\n",
       "      <td>METROPOLITANA</td>\n",
       "      <td>ABASTECIMENTO HUMANO</td>\n",
       "      <td>2.25</td>\n",
       "      <td>13140.00</td>\n",
       "      <td>NaN</td>\n",
       "      <td>NaN</td>\n",
       "      <td>CANAL DO TRABALHADOR</td>\n",
       "      <td>16/08/2004</td>\n",
       "      <td>16/08/2014</td>\n",
       "      <td>NaN</td>\n",
       "      <td>NaN</td>\n",
       "    </tr>\n",
       "  </tbody>\n",
       "</table>\n",
       "</div>"
      ],
      "text/plain": [
       "                                        Requerente  N Processo  \\\n",
       "0  ASS. DOS MORADORES DE QUIXABA DOS PAULOS E ADJ.  04279973-2   \n",
       "1                             SAAE DE PEDRA BRANCA  03272770-4   \n",
       "2           ASS. DOS PRODUTORES RURAIS DE SABONETE  02413120-2   \n",
       "3                        CELIBA CIA AGROINDUSTRIAL  04007771-3   \n",
       "4                        CELICA CIA AGROINDUSTRIAL  04007770-5   \n",
       "\n",
       "             Bacia           Tipo de Uso  Vz Outorgada(L/s)  \\\n",
       "0  BAIXO JAGUARIBE  ABASTECIMENTO HUMANO               0.66   \n",
       "1         BANABUIÚ  ABASTECIMENTO HUMANO              22.57   \n",
       "2         BANABUIÚ  ABASTECIMENTO HUMANO               2.22   \n",
       "3    METROPOLITANA             IRRIGAÇÃO               1.36   \n",
       "4    METROPOLITANA  ABASTECIMENTO HUMANO               2.25   \n",
       "\n",
       "   Vol. Outorgado(M3/ano)  Latitude  Longitude             Manancial  \\\n",
       "0                10300.00       NaN        NaN  CANAL DO TRABALHADOR   \n",
       "1               711750.00       NaN        NaN       AÇUDE TRAPIA II   \n",
       "2                35040.00       NaN        NaN           AÇUDE CEDRO   \n",
       "3                16856.26       NaN        NaN  CANAL DO TRABALHADOR   \n",
       "4                13140.00       NaN        NaN  CANAL DO TRABALHADOR   \n",
       "\n",
       "  Data Inicial  Data Final  Unnamed: 11 Unnamed: 12  \n",
       "0   08/09/2004  08/09/2014          NaN         NaN  \n",
       "1   30/08/2003  30/08/2013          NaN         NaN  \n",
       "2   25/11/2002  25/11/2012          NaN         NaN  \n",
       "3   16/08/2004  16/08/2014          NaN         NaN  \n",
       "4   16/08/2004  16/08/2014          NaN         NaN  "
      ]
     },
     "execution_count": 5,
     "metadata": {},
     "output_type": "execute_result"
    }
   ],
   "source": [
    "# Dados de outorga de 2012\n",
    "outorga_2012 = pd.read_excel(os.path.join(data_path,outorga_data_path,\"outorga_2012.xls\"))\n",
    "outorga_2012.head()\n"
   ]
  },
  {
   "cell_type": "code",
   "execution_count": 6,
   "metadata": {},
   "outputs": [
    {
     "data": {
      "text/html": [
       "<div>\n",
       "<style scoped>\n",
       "    .dataframe tbody tr th:only-of-type {\n",
       "        vertical-align: middle;\n",
       "    }\n",
       "\n",
       "    .dataframe tbody tr th {\n",
       "        vertical-align: top;\n",
       "    }\n",
       "\n",
       "    .dataframe thead th {\n",
       "        text-align: right;\n",
       "    }\n",
       "</style>\n",
       "<table border=\"1\" class=\"dataframe\">\n",
       "  <thead>\n",
       "    <tr style=\"text-align: right;\">\n",
       "      <th></th>\n",
       "      <th>CODIGOBA0</th>\n",
       "      <th>DESCRICA1</th>\n",
       "      <th>IDENTIFI2</th>\n",
       "      <th>AREA3</th>\n",
       "      <th>HECTARES4</th>\n",
       "      <th>REGIONAL5</th>\n",
       "      <th>IMAGENS6</th>\n",
       "      <th>geometry</th>\n",
       "    </tr>\n",
       "  </thead>\n",
       "  <tbody>\n",
       "    <tr>\n",
       "      <th>9</th>\n",
       "      <td>17</td>\n",
       "      <td>Serra da Ibiapaba</td>\n",
       "      <td>11</td>\n",
       "      <td>5721.92</td>\n",
       "      <td>633.89</td>\n",
       "      <td>Crateús</td>\n",
       "      <td>&lt;br&gt;&amp;nbsp;&amp;nbsp;&amp;nbsp;-&amp;nbsp;&lt;a href='http://a...</td>\n",
       "      <td>POLYGON ((262947.370 9448682.192, 262846.704 9...</td>\n",
       "    </tr>\n",
       "    <tr>\n",
       "      <th>11</th>\n",
       "      <td>24</td>\n",
       "      <td>Sertões de Crateús</td>\n",
       "      <td>12</td>\n",
       "      <td>10793.8</td>\n",
       "      <td>744.41</td>\n",
       "      <td>Crateús</td>\n",
       "      <td>&lt;br&gt;&amp;nbsp;&amp;nbsp;&amp;nbsp;-&amp;nbsp;&lt;a href='http://a...</td>\n",
       "      <td>MULTIPOLYGON (((262986.026 9448615.007, 262903...</td>\n",
       "    </tr>\n",
       "  </tbody>\n",
       "</table>\n",
       "</div>"
      ],
      "text/plain": [
       "   CODIGOBA0           DESCRICA1 IDENTIFI2    AREA3 HECTARES4 REGIONAL5  \\\n",
       "9         17   Serra da Ibiapaba        11  5721.92    633.89   Crateús   \n",
       "11        24  Sertões de Crateús        12  10793.8    744.41   Crateús   \n",
       "\n",
       "                                             IMAGENS6  \\\n",
       "9   <br>&nbsp;&nbsp;&nbsp;-&nbsp;<a href='http://a...   \n",
       "11  <br>&nbsp;&nbsp;&nbsp;-&nbsp;<a href='http://a...   \n",
       "\n",
       "                                             geometry  \n",
       "9   POLYGON ((262947.370 9448682.192, 262846.704 9...  \n",
       "11  MULTIPOLYGON (((262986.026 9448615.007, 262903...  "
      ]
     },
     "execution_count": 6,
     "metadata": {},
     "output_type": "execute_result"
    }
   ],
   "source": [
    "# Bacias 'criadas' em 2012\n",
    "new_basins = shapefile_bacias.query(\"DESCRICA1=='Serra da Ibiapaba' or DESCRICA1=='Sertões de Crateús'\")                           \n",
    "new_basins"
   ]
  },
  {
   "cell_type": "markdown",
   "metadata": {},
   "source": [
    "##### Agora que carregados os pacotes e os dados, vamos ao que interessa..."
   ]
  },
  {
   "cell_type": "code",
   "execution_count": 7,
   "metadata": {},
   "outputs": [
    {
     "data": {
      "text/html": [
       "<div>\n",
       "<style scoped>\n",
       "    .dataframe tbody tr th:only-of-type {\n",
       "        vertical-align: middle;\n",
       "    }\n",
       "\n",
       "    .dataframe tbody tr th {\n",
       "        vertical-align: top;\n",
       "    }\n",
       "\n",
       "    .dataframe thead th {\n",
       "        text-align: right;\n",
       "    }\n",
       "</style>\n",
       "<table border=\"1\" class=\"dataframe\">\n",
       "  <thead>\n",
       "    <tr style=\"text-align: right;\">\n",
       "      <th></th>\n",
       "      <th>Requerente</th>\n",
       "      <th>N Processo</th>\n",
       "      <th>Bacia</th>\n",
       "      <th>Tipo de Uso</th>\n",
       "      <th>Vz Outorgada(L/s)</th>\n",
       "      <th>Vol. Outorgado(M3/ano)</th>\n",
       "      <th>Latitude</th>\n",
       "      <th>Longitude</th>\n",
       "      <th>Manancial</th>\n",
       "      <th>Data Inicial</th>\n",
       "      <th>Data Final</th>\n",
       "      <th>Unnamed: 11</th>\n",
       "      <th>Unnamed: 12</th>\n",
       "    </tr>\n",
       "  </thead>\n",
       "  <tbody>\n",
       "    <tr>\n",
       "      <th>5</th>\n",
       "      <td>FAZENDA AMWAY NUTRILITE DO BRASIL LTDA</td>\n",
       "      <td>04410334-4</td>\n",
       "      <td>PARNAÍBA</td>\n",
       "      <td>ABASTECIMENTO HUMANO</td>\n",
       "      <td>1.52</td>\n",
       "      <td>34154.51</td>\n",
       "      <td>NaN</td>\n",
       "      <td>NaN</td>\n",
       "      <td>AÇUDE JABURU I</td>\n",
       "      <td>04/03/2005</td>\n",
       "      <td>04/03/2015</td>\n",
       "      <td>NaN</td>\n",
       "      <td>NaN</td>\n",
       "    </tr>\n",
       "    <tr>\n",
       "      <th>155</th>\n",
       "      <td>PREFEITURA MUNICIPAL DE VIÇOSA DO CEARÁ</td>\n",
       "      <td>03435760-2</td>\n",
       "      <td>PARNAÍBA</td>\n",
       "      <td>ABASTECIMENTO HUMANO</td>\n",
       "      <td>7.34</td>\n",
       "      <td>95666.50</td>\n",
       "      <td>9604770.0</td>\n",
       "      <td>242377.0</td>\n",
       "      <td>AÇUDE JUA</td>\n",
       "      <td>26/02/2004</td>\n",
       "      <td>26/02/2014</td>\n",
       "      <td>NaN</td>\n",
       "      <td>NaN</td>\n",
       "    </tr>\n",
       "    <tr>\n",
       "      <th>211</th>\n",
       "      <td>AGROINDÚSTRIA IBIAPABA LTDA - ME</td>\n",
       "      <td>09698805-3</td>\n",
       "      <td>PARNAÍBA</td>\n",
       "      <td>IRRIGAÇÃO</td>\n",
       "      <td>4.01</td>\n",
       "      <td>64619.19</td>\n",
       "      <td>9597769.0</td>\n",
       "      <td>272139.0</td>\n",
       "      <td>RIACHO TALHADO</td>\n",
       "      <td>03/02/2010</td>\n",
       "      <td>03/02/2014</td>\n",
       "      <td>NaN</td>\n",
       "      <td>NaN</td>\n",
       "    </tr>\n",
       "    <tr>\n",
       "      <th>323</th>\n",
       "      <td>DOMINGOS PRADO DAS NEVES</td>\n",
       "      <td>11637979-0</td>\n",
       "      <td>PARNAÍBA</td>\n",
       "      <td>IRRIGAÇÃO</td>\n",
       "      <td>1.96</td>\n",
       "      <td>20826.05</td>\n",
       "      <td>9580398.0</td>\n",
       "      <td>286622.0</td>\n",
       "      <td>POÇO TUBULAR RASO</td>\n",
       "      <td>16/12/2011</td>\n",
       "      <td>16/12/2015</td>\n",
       "      <td>NaN</td>\n",
       "      <td>NaN</td>\n",
       "    </tr>\n",
       "    <tr>\n",
       "      <th>331</th>\n",
       "      <td>ASSOCIAÇÃO COMUNITÁRIA DE ITAPERACEMA</td>\n",
       "      <td>12061685-8</td>\n",
       "      <td>PARNAÍBA</td>\n",
       "      <td>ABASTECIMENTO HUMANO</td>\n",
       "      <td>1.04</td>\n",
       "      <td>27338.50</td>\n",
       "      <td>9579540.0</td>\n",
       "      <td>285563.0</td>\n",
       "      <td>BATERIA DE  POÇOS</td>\n",
       "      <td>03/05/2012</td>\n",
       "      <td>03/05/2016</td>\n",
       "      <td>NaN</td>\n",
       "      <td>NaN</td>\n",
       "    </tr>\n",
       "  </tbody>\n",
       "</table>\n",
       "</div>"
      ],
      "text/plain": [
       "                                  Requerente  N Processo     Bacia  \\\n",
       "5     FAZENDA AMWAY NUTRILITE DO BRASIL LTDA  04410334-4  PARNAÍBA   \n",
       "155  PREFEITURA MUNICIPAL DE VIÇOSA DO CEARÁ  03435760-2  PARNAÍBA   \n",
       "211         AGROINDÚSTRIA IBIAPABA LTDA - ME  09698805-3  PARNAÍBA   \n",
       "323                 DOMINGOS PRADO DAS NEVES  11637979-0  PARNAÍBA   \n",
       "331    ASSOCIAÇÃO COMUNITÁRIA DE ITAPERACEMA  12061685-8  PARNAÍBA   \n",
       "\n",
       "              Tipo de Uso  Vz Outorgada(L/s)  Vol. Outorgado(M3/ano)  \\\n",
       "5    ABASTECIMENTO HUMANO               1.52                34154.51   \n",
       "155  ABASTECIMENTO HUMANO               7.34                95666.50   \n",
       "211             IRRIGAÇÃO               4.01                64619.19   \n",
       "323             IRRIGAÇÃO               1.96                20826.05   \n",
       "331  ABASTECIMENTO HUMANO               1.04                27338.50   \n",
       "\n",
       "      Latitude  Longitude           Manancial Data Inicial  Data Final  \\\n",
       "5          NaN        NaN      AÇUDE JABURU I   04/03/2005  04/03/2015   \n",
       "155  9604770.0   242377.0           AÇUDE JUA   26/02/2004  26/02/2014   \n",
       "211  9597769.0   272139.0      RIACHO TALHADO   03/02/2010  03/02/2014   \n",
       "323  9580398.0   286622.0   POÇO TUBULAR RASO   16/12/2011  16/12/2015   \n",
       "331  9579540.0   285563.0  BATERIA DE  POÇOS    03/05/2012  03/05/2016   \n",
       "\n",
       "     Unnamed: 11 Unnamed: 12  \n",
       "5            NaN         NaN  \n",
       "155          NaN         NaN  \n",
       "211          NaN         NaN  \n",
       "323          NaN         NaN  \n",
       "331          NaN         NaN  "
      ]
     },
     "execution_count": 7,
     "metadata": {},
     "output_type": "execute_result"
    }
   ],
   "source": [
    "# Dados de outorga referentes à bacia do Parnaíba\n",
    "outorga_parnaiba = outorga_2012.query(\"Bacia=='PARNAÍBA'\")\n",
    "outorga_parnaiba.head()"
   ]
  },
  {
   "cell_type": "markdown",
   "metadata": {},
   "source": [
    "Veja que as coordenadas não estão no formato mais conhecido, em graus, mas, sim, em metros. Isto ocorre por que existem diferentes sistemas de coordenadas georreferenciadas, os dados de outorga, por exemplo, estão formatados no padrão [SIRGAS 2000](http://www.sirgas.org/pt/sirgas-realizations/sirgas2000/). É **MUITO IMPORTANTE** que quem trabalha com esse tipo de dado preste atenção no **Sistema de Referência de Coordenadas** (SRC) nos projetos, arquivos raster, arquivos vetoriais, banco de dados, entre outros. Assim, Grupo de Pesquisa Petrolífera Européia – *European Petroleum Survey Group* (EPSG) elaborou os chamados \"Códigos EPSG\", sistematizando todos os SRC do planeta por códigos, com o intuito de organizar essa informação. Você pode conferir os principais Códigos EPSG usados no Brasil [aqui](http://processamentodigital.com.br/2013/07/27/lista-dos-codigos-epsg-mais-utilizados-no-brasil/)."
   ]
  },
  {
   "cell_type": "code",
   "execution_count": 8,
   "metadata": {},
   "outputs": [
    {
     "data": {
      "text/plain": [
       "array([[     nan,      nan],\n",
       "       [ 242377., 9604770.],\n",
       "       [ 272139., 9597769.],\n",
       "       [ 286622., 9580398.],\n",
       "       [ 285563., 9579540.]])"
      ]
     },
     "execution_count": 8,
     "metadata": {},
     "output_type": "execute_result"
    }
   ],
   "source": [
    "# Array com os pares (Longitude, Lagitude) de cada outorga na bacia do Parnaíba\n",
    "lon_lat_parnaiba = outorga_parnaiba[[\"Longitude\",\"Latitude\"]].values\n",
    "lon_lat_parnaiba[:5]"
   ]
  },
  {
   "cell_type": "markdown",
   "metadata": {},
   "source": [
    "Na Ciência de Dados é importante [*não ficar se repetindo*](https://pt.wikipedia.org/wiki/Don't_repeat_yourself), assim, generalizei um trecho do código passado numa função que a reutilizarei quando for preciso."
   ]
  },
  {
   "cell_type": "code",
   "execution_count": 9,
   "metadata": {},
   "outputs": [
    {
     "name": "stderr",
     "output_type": "stream",
     "text": [
      "100%|██████████| 87/87 [00:05<00:00, 16.28it/s]\n"
     ]
    }
   ],
   "source": [
    "#Lista dos dados desagregados\n",
    "desag_list = get_basin(shapefile_bacias,\"DESCRICA1\", lon_lat_parnaiba,ifnot_found = \"PARNAÍBA_UNDEF\",is_upper=True)"
   ]
  },
  {
   "cell_type": "code",
   "execution_count": 10,
   "metadata": {},
   "outputs": [],
   "source": [
    "# Atualização dos valores das bacias do dataframe outorga_parnaiba\n",
    "outorga_parnaiba[\"Bacia\"] = desag_list\n",
    "\n",
    "# Atualização dos valores das bacias do dataframe outorga_2012\n",
    "outorga_2012.loc[outorga_parnaiba.index,'Bacia'] = desag_list"
   ]
  },
  {
   "cell_type": "code",
   "execution_count": 11,
   "metadata": {},
   "outputs": [
    {
     "name": "stdout",
     "output_type": "stream",
     "text": [
      "Das 87 outorgas listadas na bacia do Parnaíba em 2012, atualmente fazem parte das bacias:\n",
      "\n",
      "SERRA DA IBIAPABA     64\n",
      "SERTÕES DE CRATEÚS    17\n",
      "ACARAÚ                 3\n",
      "PARNAÍBA_UNDEF         2\n",
      "COREAÚ                 1\n",
      "Name: Bacia, dtype: int64\n",
      "\n"
     ]
    }
   ],
   "source": [
    "print(\"\"\"Das %d outorgas listadas na bacia do Parnaíba em 2012, atualmente fazem parte das bacias:\\n\n",
    "%s\n",
    "\"\"\" % (outorga_parnaiba.shape[0],\n",
    "       outorga_parnaiba[\"Bacia\"].value_counts()))"
   ]
  },
  {
   "cell_type": "code",
   "execution_count": 15,
   "metadata": {},
   "outputs": [],
   "source": [
    "# Agora é só salvar salvar os dados de outorga desagregados\n",
    "outorga_2012.to_excel(os.path.join(data_path,outorga_data_path,\"outorga_2012_desagregado.xlsx\"),index=False)"
   ]
  },
  {
   "cell_type": "code",
   "execution_count": null,
   "metadata": {},
   "outputs": [],
   "source": []
  }
 ],
 "metadata": {
  "kernelspec": {
   "display_name": "Python 3",
   "language": "python",
   "name": "python3"
  },
  "language_info": {
   "codemirror_mode": {
    "name": "ipython",
    "version": 3
   },
   "file_extension": ".py",
   "mimetype": "text/x-python",
   "name": "python",
   "nbconvert_exporter": "python",
   "pygments_lexer": "ipython3",
   "version": "3.6.10"
  },
  "varInspector": {
   "cols": {
    "lenName": 16,
    "lenType": 16,
    "lenVar": 40
   },
   "kernels_config": {
    "python": {
     "delete_cmd_postfix": "",
     "delete_cmd_prefix": "del ",
     "library": "var_list.py",
     "varRefreshCmd": "print(var_dic_list())"
    },
    "r": {
     "delete_cmd_postfix": ") ",
     "delete_cmd_prefix": "rm(",
     "library": "var_list.r",
     "varRefreshCmd": "cat(var_dic_list()) "
    }
   },
   "types_to_exclude": [
    "module",
    "function",
    "builtin_function_or_method",
    "instance",
    "_Feature"
   ],
   "window_display": false
  }
 },
 "nbformat": 4,
 "nbformat_minor": 4
}
